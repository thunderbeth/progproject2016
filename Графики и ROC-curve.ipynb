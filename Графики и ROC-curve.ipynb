{
 "cells": [
  {
   "cell_type": "code",
   "execution_count": 5,
   "metadata": {
    "collapsed": false,
    "scrolled": true
   },
   "outputs": [
    {
     "name": "stdout",
     "output_type": "stream",
     "text": [
      "0.6947699054347325\n",
      "0.7573886294517742\n",
      "0.7642948243052908\n",
      "0.7678740902363916\n",
      "0.7798071559717619\n",
      "0.7855091872740574\n",
      "0.794402682902539\n",
      "0.7994739464675108\n",
      "0.8287152110751318\n",
      "0.8756840332730778\n"
     ]
    },
    {
     "data": {
      "text/plain": [
       "[<matplotlib.lines.Line2D at 0x78455d0>]"
      ]
     },
     "execution_count": 5,
     "metadata": {},
     "output_type": "execute_result"
    },
    {
     "data": {
      "image/png": "[encoded data removed]",
      "text/plain": [
       "<matplotlib.figure.Figure at 0x5e7e0d0>"
      ]
     },
     "metadata": {},
     "output_type": "display_data"
    }
   ],
   "source": [
    "%matplotlib inline\n",
    "# Nosik\n",
    "import codecs\n",
    "from numpy import linspace\n",
    "import matplotlib.pyplot as plt\n",
    "fig=plt.figure()\n",
    "f=open('c:/Python34/1.txt','r',encoding='utf-8-sig')\n",
    "arr=[]\n",
    "for line in f:\n",
    "    line=line.split()\n",
    "    arr.append(float(line[0]))\n",
    "f.close()\n",
    "arr.sort()\n",
    "t=0.67\n",
    "x=[]\n",
    "y=[]\n",
    "for i in arr:\n",
    "    print (i)\n",
    "for i in arr:\n",
    "    \n",
    "    if i<=(t-0.1):\n",
    "        y.append(0)\n",
    "        x.append(i)\n",
    "    elif i>=(t+0.1):\n",
    "        y.append(1)\n",
    "        x.append(i)\n",
    "    else:\n",
    "        y.append((i-t+0.1)/0.2)\n",
    "        x.append(i)\n",
    "\n",
    "plt.plot(x,y)"
   ]
  },
  {
   "cell_type": "code",
   "execution_count": 8,
   "metadata": {
    "collapsed": false
   },
   "outputs": [
    {
     "name": "stdout",
     "output_type": "stream",
     "text": [
      "0.20631032510824313\n",
      "0.20978050229446124\n",
      "0.2118699488179497\n",
      "0.21454599833361873\n",
      "0.23813932049773448\n",
      "0.23913592619237528\n",
      "0.2402374775642882\n",
      "0.2403117552729025\n",
      "0.24322136226678195\n",
      "0.24403750591589932\n",
      "0.2452081637163048\n",
      "0.2699294157837839\n",
      "0.27993111029601814\n",
      "0.2829156964260667\n",
      "0.2857868374833975\n",
      "0.2895896392089043\n",
      "0.2952612722819985\n",
      "0.29666433308301804\n",
      "0.29672903072545065\n",
      "0.3430690109460372\n"
     ]
    },
    {
     "data": {
      "text/plain": [
       "[<matplotlib.lines.Line2D at 0x78f5030>]"
      ]
     },
     "execution_count": 8,
     "metadata": {},
     "output_type": "execute_result"
    },
    {
     "data": {
      "image/png": "[encoded data removed]",
      "text/plain": [
       "<matplotlib.figure.Figure at 0x7763c90>"
      ]
     },
     "metadata": {},
     "output_type": "display_data"
    }
   ],
   "source": [
    "%matplotlib inline\n",
    "#Lebedev_graphic\n",
    "import codecs\n",
    "from numpy import linspace\n",
    "import matplotlib.pyplot as plt\n",
    "fig=plt.figure()\n",
    "f=open('c:/Python34/Lebedev_Lebedev.txt','r',encoding='utf-8-sig')\n",
    "arr=[]\n",
    "for line in f:\n",
    "    line=line.split()\n",
    "    arr.append(float(line[0]))\n",
    "f.close()\n",
    "f=open('c:/Python34/Lebedev_Nosik.txt','r',encoding='utf-8-sig')\n",
    "for line in f:\n",
    "    line=line.split()\n",
    "    arr.append(float(line[0]))\n",
    "f.close()\n",
    "arr.sort()\n",
    "t=0.26\n",
    "x=[]\n",
    "y=[]\n",
    "for i in arr:\n",
    "    print (i)\n",
    "for i in arr:\n",
    "    \n",
    "    if i<=(t-0.02):\n",
    "        y.append(1)\n",
    "        x.append(i)\n",
    "    elif i>=(t+0.02):\n",
    "        y.append(0)\n",
    "        x.append(i)\n",
    "    else:\n",
    "        y.append((t+0.02-i)/0.04)\n",
    "        x.append(i)\n",
    "\n",
    "plt.plot(x,y)"
   ]
  },
  {
   "cell_type": "code",
   "execution_count": 18,
   "metadata": {
    "collapsed": false
   },
   "outputs": [
    {
     "name": "stdout",
     "output_type": "stream",
     "text": [
      "AUC = 0.925\n"
     ]
    },
    {
     "data": {
      "text/plain": [
       "<matplotlib.figure.Figure at 0x5e7ea50>"
      ]
     },
     "metadata": {},
     "output_type": "display_data"
    },
    {
     "data": {
      "image/png": "[encoded data removed]",
      "text/plain": [
       "<matplotlib.figure.Figure at 0x7d8bbf0>"
      ]
     },
     "metadata": {},
     "output_type": "display_data"
    }
   ],
   "source": [
    "%matplotlib inline\n",
    "#Lebedev_roc-curve\n",
    "import codecs\n",
    "import numpy as np\n",
    "import matplotlib.pyplot as plt\n",
    "from sklearn.metrics import roc_curve, auc\n",
    "fig=plt.figure()\n",
    "f=open('c:/Python34/Lebedev_Lebedev.txt','r',encoding='utf-8-sig')\n",
    "arr=[]\n",
    "for line in f:\n",
    "    line=line.split()\n",
    "    arr.append(float(line[0]))\n",
    "f.close()\n",
    "\n",
    "score=[]\n",
    "classes=[]\n",
    "t=0.26\n",
    "p=0\n",
    "for i in arr:\n",
    "    if i<=(t-0.02):\n",
    "        p=1\n",
    "        score.append(p)\n",
    "        classes.append(1)\n",
    "    elif i>=(t+0.02):\n",
    "        p=0\n",
    "        score.append(p)\n",
    "        classes.append(1)\n",
    "    else:\n",
    "        p=(t+0.02-i)/0.04\n",
    "        score.append(p)\n",
    "        classes.append(1)\n",
    "        \n",
    "f=open('c:/Python34/Lebedev_Nosik.txt','r',encoding='utf-8-sig')\n",
    "brr=[]\n",
    "for line in f:\n",
    "    line=line.split()\n",
    "    brr.append(float(line[0]))\n",
    "f.close()\n",
    "\n",
    "t=0.26\n",
    "p=0\n",
    "for i in brr:\n",
    "    if i<=(t-0.02):\n",
    "        p=1\n",
    "        score.append(p)\n",
    "        classes.append(0)\n",
    "    elif i>=(t+0.02):\n",
    "        p=0\n",
    "        score.append(p)\n",
    "        classes.append(0)\n",
    "    else:\n",
    "        p=(t+0.02-i)/0.04\n",
    "        score.append(p)\n",
    "        classes.append(0)\n",
    "       \n",
    "fpr, tpr, _ = roc_curve(classes, score)\n",
    "plt.figure()\n",
    "plt.plot(fpr, tpr)\n",
    "print('AUC =', auc(fpr, tpr))\n",
    "    "
   ]
  },
  {
   "cell_type": "code",
   "execution_count": null,
   "metadata": {
    "collapsed": true
   },
   "outputs": [],
   "source": []
  }
 ],
 "metadata": {
  "kernelspec": {
   "display_name": "Python 3",
   "language": "python",
   "name": "python3"
  },
  "language_info": {
   "codemirror_mode": {
    "name": "ipython",
    "version": 3
   },
   "file_extension": ".py",
   "mimetype": "text/x-python",
   "name": "python",
   "nbconvert_exporter": "python",
   "pygments_lexer": "ipython3",
   "version": "3.5.1"
  }
 },
 "nbformat": 4,
 "nbformat_minor": 0
}
